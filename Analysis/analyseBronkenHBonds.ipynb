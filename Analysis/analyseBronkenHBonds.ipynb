{
 "cells": [
  {
   "cell_type": "code",
   "execution_count": 1,
   "metadata": {},
   "outputs": [],
   "source": [
    "## This code tries to analyze the broken regions of the transmembrane protein and see the environment of proteins surrounding them "
   ]
  },
  {
   "cell_type": "code",
   "execution_count": 1,
   "metadata": {},
   "outputs": [],
   "source": [
    "import pandas as pd \n",
    "import numpy as np \n",
    "import json\n",
    "import csv"
   ]
  },
  {
   "cell_type": "code",
   "execution_count": 2,
   "metadata": {},
   "outputs": [],
   "source": [
    "broken_membrane_report = f = open('../outputs/brokenHelix/concise_report.json')\n",
    "broken_membrane_report= json.load(broken_membrane_report)\n",
    "del broken_membrane_report[-1] ## run this only once "
   ]
  },
  {
   "cell_type": "code",
   "execution_count": 21,
   "metadata": {},
   "outputs": [],
   "source": [
    "res_count_dict = {};\n",
    "broken_res_dict={};\n",
    "total_helix_count =0 ; \n",
    "broken_helix_count = 0 ; \n",
    "for ind_report in broken_membrane_report:\n",
    "    helix_list = ind_report['helices'];\n",
    "    for ind_helix in helix_list: \n",
    "        total_helix_count = total_helix_count + 1; \n",
    "        main_chain_res = ind_helix['mainChainHelix_residues'];\n",
    "        prev_res_no = -1 ; \n",
    "        for ind_res in main_chain_res:\n",
    "            res_no = int(ind_res[22:26])\n",
    "            res_name = ind_res[17:20]\n",
    "            if(res_no != prev_res_no):\n",
    "                if(res_name not in res_count_dict.keys()):\n",
    "                    res_count_dict[res_name]= 1;\n",
    "                else:\n",
    "                    res_count_dict[res_name]= res_count_dict[res_name] + 1; \n",
    "                   # print(res_no)\n",
    "                prev_res_no= res_no;\n",
    "\n",
    "        starting_res = int(ind_helix['starting_residue']);\n",
    "        ending_res = int(ind_helix['ending_residue']);\n",
    "        broken_regions = ind_helix['broken_regions']; \n",
    "        if(len(broken_regions)):\n",
    "            broken_helix_count = broken_helix_count + 1; \n",
    "            broken_flag = 1; \n",
    "            ind =0;\n",
    "            for ind_res in main_chain_res:\n",
    "                res_no = int(ind_res[22:26]);\n",
    "                if(ind == len(broken_regions) ):\n",
    "                    break;\n",
    "                if(res_no==broken_regions[ind]):\n",
    "                    ind = ind + 1; \n",
    "                    res_name = ind_res[17:20];\n",
    "                    if(res_name not in broken_res_dict.keys()):\n",
    "                        broken_res_dict[res_name]= 0;\n",
    "                    else:\n",
    "                        broken_res_dict[res_name]= broken_res_dict[res_name] + 1; \n",
    "\n",
    "                    end_res = res_no + 4; \n",
    "\n",
    "                    for ind_res1 in main_chain_res:\n",
    "                        res_no1 = int(ind_res1[22:26]);\n",
    "                        if(end_res  == res_no1):\n",
    "                            res_name1 = ind_res1[17:20];\n",
    "                            if(res_name1 not in broken_res_dict.keys()):\n",
    "                                broken_res_dict[res_name1]= 0;\n",
    "                            else:\n",
    "                                broken_res_dict[res_name1]= broken_res_dict[res_name1] + 1;\n",
    "                            break;\n",
    "            \n",
    "            \n"
   ]
  },
  {
   "cell_type": "code",
   "execution_count": 22,
   "metadata": {},
   "outputs": [
    {
     "name": "stdout",
     "output_type": "stream",
     "text": [
      "Percent of helices broken  57.15570149720496\n"
     ]
    }
   ],
   "source": [
    "percent_broken_dict ={};\n",
    "for res_name in broken_res_dict.keys():\n",
    "    percent_broken_dict[res_name] = broken_res_dict[res_name]*100/res_count_dict[res_name];\n",
    "print('Percent of helices broken ', (broken_helix_count/total_helix_count) * 100 );"
   ]
  },
  {
   "cell_type": "code",
   "execution_count": 35,
   "metadata": {},
   "outputs": [],
   "source": [
    "res_count_dict = dict(sorted(res_count_dict.items(), key=lambda kv: kv[1]))\n",
    "percent_broken_dict = dict(sorted(percent_broken_dict.items(), key=lambda kv: kv[1]))\n",
    "broken_res_dict = dict(sorted(broken_res_dict.items(), key=lambda kv: kv[1]))\n"
   ]
  },
  {
   "cell_type": "code",
   "execution_count": 38,
   "metadata": {},
   "outputs": [
    {
     "data": {
      "text/plain": [
       "<BarContainer object of 20 artists>"
      ]
     },
     "execution_count": 38,
     "metadata": {},
     "output_type": "execute_result"
    },
    {
     "data": {
      "image/png": "[encoded data removed]",
      "text/plain": [
       "<Figure size 720x360 with 1 Axes>"
      ]
     },
     "metadata": {
      "needs_background": "light"
     },
     "output_type": "display_data"
    }
   ],
   "source": [
    "import matplotlib.pyplot as plt\n",
    "amino_acid_labels = res_count_dict.keys();\n",
    "percent_in_database = res_count_dict.values();\n",
    "fig = plt.figure(figsize = (10, 5))\n",
    "plt.bar(amino_acid_labels, percent_in_database, color ='maroon',\n",
    "        width = 0.4)"
   ]
  },
  {
   "cell_type": "code",
   "execution_count": 36,
   "metadata": {},
   "outputs": [
    {
     "data": {
      "text/plain": [
       "<BarContainer object of 20 artists>"
      ]
     },
     "execution_count": 36,
     "metadata": {},
     "output_type": "execute_result"
    },
    {
     "data": {
      "image/png": "[encoded data removed]",
      "text/plain": [
       "<Figure size 720x360 with 1 Axes>"
      ]
     },
     "metadata": {
      "needs_background": "light"
     },
     "output_type": "display_data"
    }
   ],
   "source": [
    "import matplotlib.pyplot as plt\n",
    "amino_acid_labels = broken_res_dict.keys();\n",
    "percent_in_database = broken_res_dict.values();\n",
    "fig = plt.figure(figsize = (10, 5))\n",
    "plt.bar(amino_acid_labels, percent_in_database, color ='maroon',\n",
    "        width = 0.4)"
   ]
  },
  {
   "cell_type": "code",
   "execution_count": 31,
   "metadata": {},
   "outputs": [
    {
     "data": {
      "text/plain": [
       "<BarContainer object of 20 artists>"
      ]
     },
     "execution_count": 31,
     "metadata": {},
     "output_type": "execute_result"
    },
    {
     "data": {
      "image/png": "[encoded data removed]",
      "text/plain": [
       "<Figure size 720x360 with 1 Axes>"
      ]
     },
     "metadata": {
      "needs_background": "light"
     },
     "output_type": "display_data"
    }
   ],
   "source": [
    "import matplotlib.pyplot as plt\n",
    "amino_acid_labels = percent_broken_dict.keys();\n",
    "percent_in_kink = percent_broken_dict.values();\n",
    "fig = plt.figure(figsize = (10, 5))\n",
    "plt.bar(amino_acid_labels, percent_in_kink, color ='maroon',\n",
    "        width = 0.4)"
   ]
  }
 ],
 "metadata": {
  "interpreter": {
   "hash": "dc937d4361adc6067b3f5ba7bf3f4831150e23a38cf6285dce03ddc43534dc64"
  },
  "kernelspec": {
   "display_name": "Python 3.8.11 ('bioSimulation')",
   "language": "python",
   "name": "python3"
  },
  "language_info": {
   "codemirror_mode": {
    "name": "ipython",
    "version": 3
   },
   "file_extension": ".py",
   "mimetype": "text/x-python",
   "name": "python",
   "nbconvert_exporter": "python",
   "pygments_lexer": "ipython3",
   "version": "3.8.11"
  },
  "orig_nbformat": 4
 },
 "nbformat": 4,
 "nbformat_minor": 2
}
