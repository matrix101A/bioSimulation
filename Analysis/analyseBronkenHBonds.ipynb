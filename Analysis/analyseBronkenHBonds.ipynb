{
 "cells": [
  {
   "cell_type": "code",
   "execution_count": 1,
   "metadata": {},
   "outputs": [],
   "source": [
    "## This code tries to analyze the broken regions of the transmembrane protein and see the environment of proteins surrounding them "
   ]
  },
  {
   "cell_type": "code",
   "execution_count": 9,
   "metadata": {},
   "outputs": [],
   "source": [
    "import pandas as pd \n",
    "import numpy as np \n",
    "import json\n",
    "import csv\n",
    "import matplotlib.pyplot as plt\n",
    "\n"
   ]
  },
  {
   "cell_type": "code",
   "execution_count": 10,
   "metadata": {},
   "outputs": [],
   "source": [
    "broken_membrane_dir = \"../outputs/brokenHelix/\"\n",
    "broken_membrane_report =  open('../outputs/brokenHelix/concise_report.json')\n",
    "broken_membrane_report= json.load(broken_membrane_report)\n",
    "del broken_membrane_report[-1] ## run this only once "
   ]
  },
  {
   "cell_type": "code",
   "execution_count": 28,
   "metadata": {},
   "outputs": [],
   "source": [
    "res_count_dict = {};\n",
    "broken_res_dict={};\n",
    "neighbour_res_dict={};\n",
    "total_helix_count =0 ; \n",
    "broken_helix_count = 0 ; \n",
    "broken_res_count =0 ; \n",
    "total_protein_count = 0; \n",
    "protein_with_break_in_H_bond = 0 ; \n",
    "for ind_report in broken_membrane_report:\n",
    "    total_protein_count =total_protein_count + 1 \n",
    "    broken_flag =0 ;\n",
    "    helix_list = ind_report['helices'];\n",
    "    for ind_helix in helix_list: \n",
    "        main_chain_res = ind_helix['membrane_bound_residues'];\n",
    "        if(len(main_chain_res) > 0):\n",
    "            total_helix_count = total_helix_count + 1; \n",
    "            prev_res_no = -1 ; \n",
    "            for ind_res in main_chain_res:\n",
    "                res_no = int(ind_res[22:26])\n",
    "                res_name = ind_res[17:20]\n",
    "                if(res_no != prev_res_no):\n",
    "                    if(res_name not in res_count_dict.keys()):\n",
    "                        res_count_dict[res_name]= 1;\n",
    "                    else:\n",
    "                        res_count_dict[res_name]= res_count_dict[res_name] + 1; \n",
    "                    prev_res_no= res_no;\n",
    "            broken_regions = ind_helix['broken_regions']; \n",
    "\n",
    "            if(len(broken_regions)):\n",
    "                broken_res_count= broken_res_count + len(broken_regions);\n",
    "                broken_helix_count = broken_helix_count + 1; \n",
    "                broken_flag = 1; \n",
    "                ind =0;\n",
    "                prev_res_name = '';\n",
    "                push_next =0; \n",
    "\n",
    "                for ind_res in main_chain_res:\n",
    "                    res_no = int(ind_res[22:26]);\n",
    "                    res_name = ind_res[17:20];\n",
    "\n",
    "                    while((ind <  len(broken_regions)) and res_no > broken_regions[ind]  ):\n",
    "                        ind = ind +1 ; \n",
    "                        \n",
    "                    if(ind >= len(broken_regions) ):\n",
    "                        break;\n",
    "                    if(push_next ):\n",
    "                        if(res_name not in neighbour_res_dict.keys()):\n",
    "                            neighbour_res_dict[res_name]= 0;\n",
    "                            push_next =1; \n",
    "                        else:\n",
    "                            neighbour_res_dict[res_name]= neighbour_res_dict[res_name] + 1; \n",
    "                            push_next =1; \n",
    "                        push_next= 0 ;\n",
    "                        \n",
    "                    if(res_no==broken_regions[ind]):\n",
    "                        ind = ind + 1; \n",
    "                        push_next =1; \n",
    "                        \n",
    "                        if(res_name not in broken_res_dict.keys()):\n",
    "                            broken_res_dict[res_name]= 0;\n",
    "                        else:\n",
    "                            broken_res_dict[res_name]= broken_res_dict[res_name] + 1; \n",
    "\n",
    "                        if(prev_res_name not in neighbour_res_dict.keys()):\n",
    "                            neighbour_res_dict[prev_res_name]= 0;\n",
    "                        else:\n",
    "                            neighbour_res_dict[prev_res_name]= neighbour_res_dict[prev_res_name] + 1; \n",
    "                        prev_res1 = '';\n",
    "                        end_res = res_no + 4; \n",
    "                        for ind_res1 in main_chain_res:\n",
    "                            res_no1 = int(ind_res1[22:26]);\n",
    "                            res_name1 = ind_res1[17:20];\n",
    "                            if(end_res  == res_no1):\n",
    "                                if(res_name1 not in broken_res_dict.keys()):\n",
    "                                    broken_res_dict[res_name1]= 0;\n",
    "                                else:\n",
    "                                    broken_res_dict[res_name1]= broken_res_dict[res_name1] + 1;\n",
    "        \n",
    "                                if(prev_res_name not in neighbour_res_dict.keys()):\n",
    "                                    neighbour_res_dict[prev_res_name]= 0;\n",
    "                                else:\n",
    "                                    neighbour_res_dict[prev_res_name]= neighbour_res_dict[prev_res_name] + 1; \n",
    "                                break;\n",
    "                            prev_res1= res_no1; \n",
    "                    prev_res_name = res_name;\n",
    "    if(broken_flag):\n",
    "        protein_with_break_in_H_bond = protein_with_break_in_H_bond + 1\n",
    "                       \n",
    "            \n",
    "            \n",
    "\n"
   ]
  },
  {
   "cell_type": "code",
   "execution_count": 29,
   "metadata": {},
   "outputs": [],
   "source": [
    "del neighbour_res_dict['']\n"
   ]
  },
  {
   "cell_type": "code",
   "execution_count": 30,
   "metadata": {},
   "outputs": [
    {
     "name": "stdout",
     "output_type": "stream",
     "text": [
      "Total number of proteins 663\n",
      "proteins with broken H bond 652\n",
      "Total number of transmembrane helices  21180\n",
      "Total number of  helices  21180\n",
      "Total number of broken helices  14028\n",
      "Percent of helices broken  66.23229461756374\n"
     ]
    }
   ],
   "source": [
    "percent_broken_dict ={};\n",
    "neighbour_percent_broken_dict={};\n",
    "for res_name in broken_res_dict.keys():\n",
    "    percent_broken_dict[res_name] = broken_res_dict[res_name]*100/res_count_dict[res_name];\n",
    "for res_name in neighbour_res_dict.keys():\n",
    "    neighbour_percent_broken_dict[res_name] = neighbour_res_dict[res_name]*100/res_count_dict[res_name];\n",
    "print(\"Total number of proteins\",total_protein_count )\n",
    "print(\"proteins with broken H bond\",protein_with_break_in_H_bond)\n",
    "print(\"Total number of transmembrane helices \",total_helix_count )\n",
    "print(\"Total number of  helices \",total_helix_count )\n",
    "\n",
    "print(\"Total number of broken helices \",broken_helix_count )\n",
    "print('Percent of helices broken ', (broken_helix_count/total_helix_count) * 100 );\n"
   ]
  },
  {
   "cell_type": "code",
   "execution_count": 31,
   "metadata": {},
   "outputs": [],
   "source": [
    "res_count_dict = dict(sorted(res_count_dict.items(), key=lambda kv: kv[1]))\n",
    "percent_broken_dict = dict(sorted(percent_broken_dict.items(), key=lambda kv: kv[1]))\n",
    "broken_res_dict = dict(sorted(broken_res_dict.items(), key=lambda kv: kv[1]))\n",
    "neighbour_percent_broken_dict=dict(sorted(neighbour_percent_broken_dict.items(), key=lambda kv: kv[1]))\n"
   ]
  },
  {
   "cell_type": "code",
   "execution_count": 32,
   "metadata": {},
   "outputs": [
    {
     "data": {
      "text/plain": [
       "Text(0.5, 1.0, 'Distribution of Number of amino acids in transmembrane helices')"
      ]
     },
     "execution_count": 32,
     "metadata": {},
     "output_type": "execute_result"
    },
    {
     "data": {
      "image/png": "[encoded data removed]",
      "text/plain": [
       "<Figure size 720x360 with 1 Axes>"
      ]
     },
     "metadata": {
      "needs_background": "light"
     },
     "output_type": "display_data"
    }
   ],
   "source": [
    "import matplotlib.pyplot as plt\n",
    "amino_acid_labels = res_count_dict.keys();\n",
    "percent_in_database = res_count_dict.values();\n",
    "fig = plt.figure(figsize = (10, 5))\n",
    "plt.bar(amino_acid_labels, percent_in_database, color ='maroon',\n",
    "        width = 0.4)\n",
    "ax = plt.gca()\n",
    "\n",
    "ax.set_title(\"Distribution of Number of amino acids in transmembrane helices\")\n"
   ]
  },
  {
   "cell_type": "code",
   "execution_count": 33,
   "metadata": {},
   "outputs": [
    {
     "data": {
      "text/plain": [
       "Text(0.5, 1.0, 'Number of amino acids in broken regions of helices')"
      ]
     },
     "execution_count": 33,
     "metadata": {},
     "output_type": "execute_result"
    },
    {
     "data": {
      "image/png": "[encoded data removed]",
      "text/plain": [
       "<Figure size 720x360 with 1 Axes>"
      ]
     },
     "metadata": {
      "needs_background": "light"
     },
     "output_type": "display_data"
    }
   ],
   "source": [
    "import matplotlib.pyplot as plt\n",
    "amino_acid_labels = broken_res_dict.keys();\n",
    "number_in_broken_regions = broken_res_dict.values();\n",
    "fig = plt.figure(figsize = (10, 5))\n",
    "plt.bar(amino_acid_labels, number_in_broken_regions, color ='maroon',\n",
    "        width = 0.4)\n",
    "ax = plt.gca()\n",
    "ax.set_title(\"Number of amino acids in broken regions of helices\")\n",
    "\n"
   ]
  },
  {
   "cell_type": "code",
   "execution_count": 34,
   "metadata": {},
   "outputs": [
    {
     "data": {
      "text/plain": [
       "Text(0.5, 1.0, 'Persent of amino acid involved in broken H Bond formation')"
      ]
     },
     "execution_count": 34,
     "metadata": {},
     "output_type": "execute_result"
    },
    {
     "data": {
      "image/png": "[encoded data removed]",
      "text/plain": [
       "<Figure size 720x360 with 1 Axes>"
      ]
     },
     "metadata": {
      "needs_background": "light"
     },
     "output_type": "display_data"
    }
   ],
   "source": [
    "amino_acid_labels = percent_broken_dict.keys();\n",
    "percent_in_kink = percent_broken_dict.values();\n",
    "fig = plt.figure(figsize = (10, 5))\n",
    "plt.bar(amino_acid_labels, percent_in_kink, color ='maroon',\n",
    "        width = 0.4)\n",
    "ax = plt.gca()\n",
    "ax.set_title(\"Persent of amino acid involved in broken H Bond formation\")\n",
    "\n",
    "# report top 5 residues involved in broken hydorgen bonds"
   ]
  },
  {
   "cell_type": "code",
   "execution_count": 35,
   "metadata": {},
   "outputs": [
    {
     "data": {
      "text/plain": [
       "Text(0.5, 1.0, 'Persent of amino acid involved in residues neighbouring broken H Bond ')"
      ]
     },
     "execution_count": 35,
     "metadata": {},
     "output_type": "execute_result"
    },
    {
     "data": {
      "image/png": "[encoded data removed]",
      "text/plain": [
       "<Figure size 720x360 with 1 Axes>"
      ]
     },
     "metadata": {
      "needs_background": "light"
     },
     "output_type": "display_data"
    }
   ],
   "source": [
    "amino_acid_labels = neighbour_percent_broken_dict.keys();\n",
    "neighbour_percent_in_kink = neighbour_percent_broken_dict.values();\n",
    "fig = plt.figure(figsize = (10, 5))\n",
    "plt.bar(amino_acid_labels, neighbour_percent_in_kink, color ='maroon',\n",
    "        width = 0.4)\n",
    "ax = plt.gca()\n",
    "ax.set_title(\"Persent of amino acid involved in residues neighbouring broken H Bond \")\n",
    "\n",
    "# report top 5 residues involved in broken   hydrogen bond"
   ]
  },
  {
   "cell_type": "code",
   "execution_count": 36,
   "metadata": {},
   "outputs": [
    {
     "data": {
      "text/plain": [
       "{'TYR': 16.980113380725278,\n",
       " 'GLN': 17.05346042271032,\n",
       " 'VAL': 18.217066383165005,\n",
       " 'PHE': 18.507933018211133,\n",
       " 'THR': 18.759632575057026,\n",
       " 'HIS': 18.95744680851064,\n",
       " 'LEU': 19.482209190504026,\n",
       " 'GLU': 20.04991680532446,\n",
       " 'ILE': 20.193574075775675,\n",
       " 'ASP': 20.574304322084075,\n",
       " 'SER': 20.682897862232778,\n",
       " 'ALA': 20.941286934068835,\n",
       " 'GLY': 20.9451989892609,\n",
       " 'ASN': 21.20253164556962,\n",
       " 'CYS': 21.274094969440526,\n",
       " 'TRP': 21.406986582859904,\n",
       " 'MET': 22.603327045103757,\n",
       " 'LYS': 23.20684360605396,\n",
       " 'ARG': 23.82331643736423,\n",
       " 'PRO': 26.10343893853236}"
      ]
     },
     "execution_count": 36,
     "metadata": {},
     "output_type": "execute_result"
    }
   ],
   "source": [
    "neighbour_percent_broken_dict"
   ]
  },
  {
   "cell_type": "markdown",
   "metadata": {},
   "source": [
    "### Check interation of broken regions with other main chain residues in the same helix as well as different helix \n",
    "### repeat this for main chain - side chain interactions "
   ]
  },
  {
   "cell_type": "code",
   "execution_count": 37,
   "metadata": {},
   "outputs": [],
   "source": [
    "def getCoordinateList(atom_record):\n",
    "    #returns the X, Y, Z coordinates in the form of a list \n",
    "    xCoord = float(atom_record[30:38]);\n",
    "    yCoord = float(atom_record[38:46]);\n",
    "    zCoord = float(atom_record[46:54]);\n",
    "    return [xCoord, yCoord, zCoord];"
   ]
  },
  {
   "cell_type": "code",
   "execution_count": 45,
   "metadata": {},
   "outputs": [],
   "source": [
    "three_helix_count =0 ; \n",
    "pi_helix_count=0 ; \n",
    "six_helix_count =0;\n",
    "three_helix_residue_name = []\n",
    "pi_helix_residue_name = []\n",
    "\n",
    "protein_with_three_helix = 0 ; \n",
    "protein_with_pi_helix =0 ;\n",
    "for ind_report in broken_membrane_report:\n",
    "   # print(ind_report['pdb_id'])\n",
    "    helix_list = ind_report['helices'];\n",
    "    three_helix_flag =0 ; \n",
    "    pi_helix_flag =0 ; \n",
    "    for i,ind_helix in enumerate(helix_list): \n",
    "      \n",
    "        main_chain_res = ind_helix['membrane_bound_residues'];\n",
    "        if(len(main_chain_res) > 0):\n",
    "            broken_regions = ind_helix['broken_regions']; \n",
    "            if(len(broken_regions)):\n",
    "                ind =0;    \n",
    "                for ind_res in main_chain_res:\n",
    "                    res_no = int(ind_res[22:26]);\n",
    "                    res_name = ind_res[17:20];\n",
    "\n",
    "                    while((ind <  len(broken_regions)) and res_no > broken_regions[ind] ):\n",
    "                        ind = ind +1 ; \n",
    "                    if(ind >= len(broken_regions) ):\n",
    "                        break;\n",
    "\n",
    "                    if(res_no==broken_regions[ind]):\n",
    "                        ind = ind +1 ; \n",
    "                        for ind_res1 in main_chain_res:\n",
    "                            res_no1 = int(ind_res1[22:26]);\n",
    "                            res_name1 = ind_res1[17:20];\n",
    "                            atom_name = ind_res1[13:14]\n",
    "                            if(atom_name == 'O' and res_no1 == res_no):\n",
    "                                acceptor_res = ind_res1;\n",
    "                                res_x_coord , res_y_coord,res_z_coord = getCoordinateList(ind_res1)\n",
    "\n",
    "                            if(atom_name == 'N' and res_no1 == res_no +3):  # 3 10 helix is present\n",
    "                                donor_res = ind_res1;\n",
    "                                #print(acceptor_res, donor_res)\n",
    "                                res1_x_coord , res1_y_coord,res1_z_coord = getCoordinateList(ind_res1)\n",
    "                                donor_point= np.array((res1_x_coord, res1_y_coord, res1_z_coord));\n",
    "                                acceptor_point =  np.array((res_x_coord, res_y_coord, res_z_coord));\n",
    "                                dist = np.linalg.norm(acceptor_point - donor_point);  # calculates the distance between the donor and acceptor atoms\n",
    "                                if(dist < 3.5 ): # H bond criteria for helix\n",
    "                                    three_helix_residue_name.append(res_name)\n",
    "                                    three_helix_count = three_helix_count + 1; \n",
    "                                    three_helix_flag =1;\n",
    "                                    \n",
    "                            if(atom_name == 'N' and res_no1 == res_no +5):# pi helix is present\n",
    "                                donor_res = ind_res1;\n",
    "                                #print(acceptor_res, donor_res)\n",
    "                                res1_x_coord , res1_y_coord,res1_z_coord = getCoordinateList(ind_res1)\n",
    "                                donor_point= np.array((res1_x_coord, res1_y_coord, res1_z_coord));\n",
    "                                acceptor_point =  np.array((res_x_coord, res_y_coord, res_z_coord));\n",
    "                                dist = np.linalg.norm(acceptor_point - donor_point);  # calculates the distance between the donor and acceptor atoms\n",
    "                                if(dist < 3.5 ): # H bond criteria for helix\n",
    "                                    pi_helix_residue_name.append(res_name)\n",
    "                                    pi_helix_count = pi_helix_count + 1; \n",
    "                                    pi_helix_flag =1; \n",
    "                            if(atom_name == 'N' and res_no1 == res_no +6):# pi helix is present\n",
    "                                donor_res = ind_res1;\n",
    "                                #print(acceptor_res, donor_res)\n",
    "                                res1_x_coord , res1_y_coord,res1_z_coord = getCoordinateList(ind_res1)\n",
    "                                donor_point= np.array((res1_x_coord, res1_y_coord, res1_z_coord));\n",
    "                                acceptor_point =  np.array((res_x_coord, res_y_coord, res_z_coord));\n",
    "                                dist = np.linalg.norm(acceptor_point - donor_point);  # calculates the distance between the donor and acceptor atoms\n",
    "                                if(dist < 3.5 ): # H bond criteria for helix\n",
    "                                    six_helix_count = pi_helix_count + 1; \n",
    "    helix_list[i]= ind_helix;\n",
    "    if(pi_helix_flag):\n",
    "        protein_with_pi_helix = protein_with_pi_helix +1; \n",
    "    if(three_helix_flag):\n",
    "        protein_with_three_helix = protein_with_three_helix +1 ;"
   ]
  },
  {
   "cell_type": "code",
   "execution_count": 49,
   "metadata": {},
   "outputs": [
    {
     "data": {
      "text/plain": [
       "<BarContainer object of 6794 artists>"
      ]
     },
     "execution_count": 49,
     "metadata": {},
     "output_type": "execute_result"
    },
    {
     "data": {
      "image/png": "[encoded data removed]",
      "text/plain": [
       "<Figure size 720x288 with 1 Axes>"
      ]
     },
     "metadata": {
      "needs_background": "light"
     },
     "output_type": "display_data"
    }
   ],
   "source": [
    "three_helix_residue_name.sort()\n",
    "three_helix_residue_name\n",
    "from matplotlib import pyplot as plt\n",
    "\n",
    "plt.bar(three_helix_residue_name, three_helix_residue_name)\n"
   ]
  },
  {
   "cell_type": "code",
   "execution_count": 53,
   "metadata": {},
   "outputs": [
    {
     "data": {
      "text/plain": [
       "<BarContainer object of 20 artists>"
      ]
     },
     "execution_count": 53,
     "metadata": {},
     "output_type": "execute_result"
    },
    {
     "data": {
      "image/png": "[encoded data removed]",
      "text/plain": [
       "<Figure size 720x288 with 1 Axes>"
      ]
     },
     "metadata": {
      "needs_background": "light"
     },
     "output_type": "display_data"
    }
   ],
   "source": [
    "from collections import Counter\n",
    "\n",
    "fig = plt.figure()\n",
    "fig.set_figwidth(10)\n",
    "k = Counter(three_helix_residue_name)\n",
    "plt.bar(k.keys(),k.values(),  color ='maroon',\n",
    "        width = 0.4)\n"
   ]
  },
  {
   "cell_type": "code",
   "execution_count": 39,
   "metadata": {},
   "outputs": [
    {
     "ename": "KeyError",
     "evalue": "'psi_angles'",
     "output_type": "error",
     "traceback": [
      "\u001b[0;31m---------------------------------------------------------------------------\u001b[0m",
      "\u001b[0;31mKeyError\u001b[0m                                  Traceback (most recent call last)",
      "\u001b[1;32m/Users/abhinavtiwari/Library/CloudStorage/OneDrive-IITKanpur/bioSimulation/Analysis/analyseBronkenHBonds.ipynb Cell 16'\u001b[0m in \u001b[0;36m<module>\u001b[0;34m\u001b[0m\n\u001b[1;32m     <a href='vscode-notebook-cell:/Users/abhinavtiwari/Library/CloudStorage/OneDrive-IITKanpur/bioSimulation/Analysis/analyseBronkenHBonds.ipynb#ch0000014?line=13'>14</a>\u001b[0m \u001b[39mfor\u001b[39;00m i,ind_helix \u001b[39min\u001b[39;00m \u001b[39menumerate\u001b[39m(helix_list): \n\u001b[1;32m     <a href='vscode-notebook-cell:/Users/abhinavtiwari/Library/CloudStorage/OneDrive-IITKanpur/bioSimulation/Analysis/analyseBronkenHBonds.ipynb#ch0000014?line=14'>15</a>\u001b[0m     ind_output_file_helix \u001b[39m=\u001b[39m ind_output_file[i]\n\u001b[0;32m---> <a href='vscode-notebook-cell:/Users/abhinavtiwari/Library/CloudStorage/OneDrive-IITKanpur/bioSimulation/Analysis/analyseBronkenHBonds.ipynb#ch0000014?line=15'>16</a>\u001b[0m     ramachandran_psi_list \u001b[39m=\u001b[39m ind_output_file_helix[\u001b[39m'\u001b[39;49m\u001b[39mpsi_angles\u001b[39;49m\u001b[39m'\u001b[39;49m]\n\u001b[1;32m     <a href='vscode-notebook-cell:/Users/abhinavtiwari/Library/CloudStorage/OneDrive-IITKanpur/bioSimulation/Analysis/analyseBronkenHBonds.ipynb#ch0000014?line=16'>17</a>\u001b[0m     ramachandran_phi_list \u001b[39m=\u001b[39m ind_output_file_helix[\u001b[39m'\u001b[39m\u001b[39mphi_angles\u001b[39m\u001b[39m'\u001b[39m]\n\u001b[1;32m     <a href='vscode-notebook-cell:/Users/abhinavtiwari/Library/CloudStorage/OneDrive-IITKanpur/bioSimulation/Analysis/analyseBronkenHBonds.ipynb#ch0000014?line=17'>18</a>\u001b[0m     main_chain_res \u001b[39m=\u001b[39m ind_helix[\u001b[39m'\u001b[39m\u001b[39mmembrane_bound_residues\u001b[39m\u001b[39m'\u001b[39m];\n",
      "\u001b[0;31mKeyError\u001b[0m: 'psi_angles'"
     ]
    }
   ],
   "source": [
    "# analyse ramachandran angles of broken regions\n",
    "three_helix_count =0 ; \n",
    "pi_helix_count=0 ; \n",
    "protein_with_three_helix = 0 ; \n",
    "protein_with_pi_helix =0 ;\n",
    "for ind_report in broken_membrane_report:\n",
    "   # print(ind_report['pdb_id'])\n",
    "    pdb_id = ind_report['pdb_id']\n",
    "    ind_output_file = broken_membrane_dir + pdb_id[:-4] +\".json\"\n",
    "    ind_output_file = json.load(open(ind_output_file))\n",
    "    helix_list = ind_report['helices'];\n",
    "    three_helix_flag =0 ; \n",
    "    pi_helix_flag =0 ; \n",
    "    for i,ind_helix in enumerate(helix_list): \n",
    "        ind_output_file_helix = ind_output_file[i]\n",
    "        ramachandran_psi_list = ind_output_file_helix['psi_angles']\n",
    "        ramachandran_phi_list = ind_output_file_helix['phi_angles']\n",
    "        main_chain_res = ind_helix['membrane_bound_residues'];\n",
    "        if(len(main_chain_res) > 0):\n",
    "            broken_regions = ind_helix['broken_regions']; \n",
    "            if(len(broken_regions)):\n",
    "                for broken_res_no in broken_regions:\n",
    "                    continue\n"
   ]
  },
  {
   "cell_type": "code",
   "execution_count": 78,
   "metadata": {},
   "outputs": [
    {
     "data": {
      "text/plain": [
       "{'starting_residue_number': '  23',\n",
       " 'ending_residue_number': '  31',\n",
       " 'length': 9,\n",
       " 'helix_S.No': ' 57',\n",
       " 'helix_code': 'AG3',\n",
       " 'chain_identifier': 'B',\n",
       " 'helix_residues': ['ATOM   9030  N   CYS B  23      59.750   5.362  17.665  1.00 98.63           N  \\n',\n",
       "  'ATOM   9031  CA  CYS B  23      59.326   5.299  19.067  1.00 98.63           C  \\n',\n",
       "  'ATOM   9032  C   CYS B  23      60.338   5.026  20.190  1.00 98.63           C  \\n',\n",
       "  'ATOM   9033  O   CYS B  23      59.941   4.975  21.361  1.00 98.63           O  \\n',\n",
       "  'ATOM   9034  CB  CYS B  23      58.242   4.245  19.200  1.00 98.63           C  \\n',\n",
       "  'ATOM   9035  SG  CYS B  23      56.636   4.702  18.540  1.00 98.63           S  \\n',\n",
       "  'ATOM   9036  N   ASP B  24      61.632   4.908  19.888  1.00102.13           N  \\n',\n",
       "  'ATOM   9037  CA  ASP B  24      62.618   4.641  20.951  1.00102.13           C  \\n',\n",
       "  'ATOM   9038  C   ASP B  24      62.600   5.792  21.960  1.00102.13           C  \\n',\n",
       "  'ATOM   9039  O   ASP B  24      62.481   5.591  23.190  1.00102.13           O  \\n',\n",
       "  'ATOM   9040  CB  ASP B  24      64.016   4.470  20.359  1.00102.13           C  \\n',\n",
       "  'ATOM   9041  CG  ASP B  24      65.035   4.021  21.387  1.00102.13           C  \\n',\n",
       "  'ATOM   9042  OD1 ASP B  24      64.654   3.836  22.562  1.00102.13           O  \\n',\n",
       "  'ATOM   9043  OD2 ASP B  24      66.217   3.850  21.020  1.00102.13           O  \\n',\n",
       "  'ATOM   9044  N   THR B  25      62.557   7.013  21.418  1.00102.53           N  \\n',\n",
       "  'ATOM   9045  CA  THR B  25      62.460   8.224  22.210  1.00102.53           C  \\n',\n",
       "  'ATOM   9046  C   THR B  25      61.157   8.180  23.013  1.00102.53           C  \\n',\n",
       "  'ATOM   9047  O   THR B  25      61.170   8.527  24.183  1.00102.53           O  \\n',\n",
       "  'ATOM   9048  CB  THR B  25      62.504   9.490  21.332  1.00102.53           C  \\n',\n",
       "  'ATOM   9049  OG1 THR B  25      61.423   9.461  20.392  1.00102.53           O  \\n',\n",
       "  'ATOM   9050  CG2 THR B  25      63.823   9.580  20.577  1.00102.53           C  \\n',\n",
       "  'ATOM   9051  N   LEU B  26      60.053   7.699  22.424  1.00103.22           N  \\n',\n",
       "  'ATOM   9052  CA  LEU B  26      58.804   7.598  23.161  1.00103.22           C  \\n',\n",
       "  'ATOM   9053  C   LEU B  26      59.019   6.684  24.370  1.00103.22           C  \\n',\n",
       "  'ATOM   9054  O   LEU B  26      58.658   7.074  25.487  1.00103.22           O  \\n',\n",
       "  'ATOM   9055  CB  LEU B  26      57.677   7.075  22.270  1.00103.22           C  \\n',\n",
       "  'ATOM   9056  CG  LEU B  26      56.333   6.864  22.971  1.00103.22           C  \\n',\n",
       "  'ATOM   9057  CD1 LEU B  26      55.788   8.184  23.496  1.00103.22           C  \\n',\n",
       "  'ATOM   9058  CD2 LEU B  26      55.334   6.196  22.041  1.00103.22           C  \\n',\n",
       "  'ATOM   9059  N   CYS B  27      59.715   5.542  24.226  1.00105.18           N  \\n',\n",
       "  'ATOM   9060  CA  CYS B  27      59.955   4.727  25.440  1.00105.18           C  \\n',\n",
       "  'ATOM   9061  C   CYS B  27      60.802   5.492  26.459  1.00105.18           C  \\n',\n",
       "  'ATOM   9062  O   CYS B  27      60.578   5.372  27.663  1.00105.18           O  \\n',\n",
       "  'ATOM   9063  CB  CYS B  27      60.455   3.279  25.253  1.00105.18           C  \\n',\n",
       "  'ATOM   9064  SG  CYS B  27      59.435   2.030  24.455  1.00105.18           S  \\n',\n",
       "  'ATOM   9065  N   LYS B  28      61.772   6.279  25.985  1.00103.58           N  \\n',\n",
       "  'ATOM   9066  CA  LYS B  28      62.552   7.093  26.899  1.00103.58           C  \\n',\n",
       "  'ATOM   9067  C   LYS B  28      61.657   8.098  27.658  1.00103.58           C  \\n',\n",
       "  'ATOM   9068  O   LYS B  28      61.885   8.342  28.842  1.00103.58           O  \\n',\n",
       "  'ATOM   9069  CB  LYS B  28      63.662   7.834  26.150  1.00103.58           C  \\n',\n",
       "  'ATOM   9070  CG  LYS B  28      64.779   6.935  25.645  1.00103.58           C  \\n',\n",
       "  'ATOM   9071  CD  LYS B  28      65.846   7.738  24.920  1.00103.58           C  \\n',\n",
       "  'ATOM   9072  CE  LYS B  28      67.025   6.862  24.528  1.00103.58           C  \\n',\n",
       "  'ATOM   9073  NZ  LYS B  28      66.605   5.720  23.669  1.00103.58           N  \\n',\n",
       "  'ATOM   9074  N   GLU B  29      60.650   8.679  26.996  1.00105.06           N  \\n',\n",
       "  'ATOM   9075  CA  GLU B  29      59.795   9.670  27.657  1.00105.06           C  \\n',\n",
       "  'ATOM   9076  C   GLU B  29      58.842   9.109  28.722  1.00105.06           C  \\n',\n",
       "  'ATOM   9077  O   GLU B  29      58.731   9.694  29.800  1.00105.06           O  \\n',\n",
       "  'ATOM   9078  CB  GLU B  29      59.101  10.617  26.654  1.00105.06           C  \\n',\n",
       "  'ATOM   9079  CG  GLU B  29      57.807  10.126  26.029  1.00105.06           C  \\n',\n",
       "  'ATOM   9080  CD  GLU B  29      57.317  11.038  24.921  1.00105.06           C  \\n',\n",
       "  'ATOM   9081  OE1 GLU B  29      57.960  12.081  24.681  1.00105.06           O  \\n',\n",
       "  'ATOM   9082  OE2 GLU B  29      56.290  10.711  24.290  1.00105.06           O  \\n',\n",
       "  'ATOM   9083  N   LYS B  30      58.155   7.999  28.454  1.00100.61           N  \\n',\n",
       "  'ATOM   9084  CA  LYS B  30      57.299   7.459  29.498  1.00100.61           C  \\n',\n",
       "  'ATOM   9085  C   LYS B  30      58.051   6.581  30.491  1.00100.61           C  \\n',\n",
       "  'ATOM   9086  O   LYS B  30      57.472   6.196  31.512  1.00100.61           O  \\n',\n",
       "  'ATOM   9087  CB  LYS B  30      56.151   6.655  28.876  1.00100.61           C  \\n',\n",
       "  'ATOM   9088  CG  LYS B  30      55.408   7.378  27.763  1.00100.61           C  \\n',\n",
       "  'ATOM   9089  CD  LYS B  30      54.633   8.570  28.299  1.00100.61           C  \\n',\n",
       "  'ATOM   9090  CE  LYS B  30      53.760   9.194  27.222  1.00100.61           C  \\n',\n",
       "  'ATOM   9091  NZ  LYS B  30      54.562   9.826  26.144  1.00100.61           N  \\n',\n",
       "  'ATOM   9092  N   GLY B  31      59.316   6.262  30.223  1.00 97.58           N  \\n',\n",
       "  'ATOM   9093  CA  GLY B  31      60.082   5.401  31.101  1.00 97.58           C  \\n',\n",
       "  'ATOM   9094  C   GLY B  31      60.517   4.103  30.450  1.00 97.58           C  \\n',\n",
       "  'ATOM   9095  O   GLY B  31      60.648   3.076  31.124  1.00 97.58           O  \\n'],\n",
       " 'mainChainHelix_residues': ['ATOM   9030  N   CYS B  23      59.750   5.362  17.665  1.00 98.63           N  \\n',\n",
       "  'ATOM   9031  CA  CYS B  23      59.326   5.299  19.067  1.00 98.63           C  \\n',\n",
       "  'ATOM   9032  C   CYS B  23      60.338   5.026  20.190  1.00 98.63           C  \\n',\n",
       "  'ATOM   9033  O   CYS B  23      59.941   4.975  21.361  1.00 98.63           O  \\n',\n",
       "  'ATOM   9036  N   ASP B  24      61.632   4.908  19.888  1.00102.13           N  \\n',\n",
       "  'ATOM   9037  CA  ASP B  24      62.618   4.641  20.951  1.00102.13           C  \\n',\n",
       "  'ATOM   9038  C   ASP B  24      62.600   5.792  21.960  1.00102.13           C  \\n',\n",
       "  'ATOM   9039  O   ASP B  24      62.481   5.591  23.190  1.00102.13           O  \\n',\n",
       "  'ATOM   9044  N   THR B  25      62.557   7.013  21.418  1.00102.53           N  \\n',\n",
       "  'ATOM   9045  CA  THR B  25      62.460   8.224  22.210  1.00102.53           C  \\n',\n",
       "  'ATOM   9046  C   THR B  25      61.157   8.180  23.013  1.00102.53           C  \\n',\n",
       "  'ATOM   9047  O   THR B  25      61.170   8.527  24.183  1.00102.53           O  \\n',\n",
       "  'ATOM   9051  N   LEU B  26      60.053   7.699  22.424  1.00103.22           N  \\n',\n",
       "  'ATOM   9052  CA  LEU B  26      58.804   7.598  23.161  1.00103.22           C  \\n',\n",
       "  'ATOM   9053  C   LEU B  26      59.019   6.684  24.370  1.00103.22           C  \\n',\n",
       "  'ATOM   9054  O   LEU B  26      58.658   7.074  25.487  1.00103.22           O  \\n',\n",
       "  'ATOM   9059  N   CYS B  27      59.715   5.542  24.226  1.00105.18           N  \\n',\n",
       "  'ATOM   9060  CA  CYS B  27      59.955   4.727  25.440  1.00105.18           C  \\n',\n",
       "  'ATOM   9061  C   CYS B  27      60.802   5.492  26.459  1.00105.18           C  \\n',\n",
       "  'ATOM   9062  O   CYS B  27      60.578   5.372  27.663  1.00105.18           O  \\n',\n",
       "  'ATOM   9065  N   LYS B  28      61.772   6.279  25.985  1.00103.58           N  \\n',\n",
       "  'ATOM   9066  CA  LYS B  28      62.552   7.093  26.899  1.00103.58           C  \\n',\n",
       "  'ATOM   9067  C   LYS B  28      61.657   8.098  27.658  1.00103.58           C  \\n',\n",
       "  'ATOM   9068  O   LYS B  28      61.885   8.342  28.842  1.00103.58           O  \\n',\n",
       "  'ATOM   9074  N   GLU B  29      60.650   8.679  26.996  1.00105.06           N  \\n',\n",
       "  'ATOM   9075  CA  GLU B  29      59.795   9.670  27.657  1.00105.06           C  \\n',\n",
       "  'ATOM   9076  C   GLU B  29      58.842   9.109  28.722  1.00105.06           C  \\n',\n",
       "  'ATOM   9077  O   GLU B  29      58.731   9.694  29.800  1.00105.06           O  \\n',\n",
       "  'ATOM   9083  N   LYS B  30      58.155   7.999  28.454  1.00100.61           N  \\n',\n",
       "  'ATOM   9084  CA  LYS B  30      57.299   7.459  29.498  1.00100.61           C  \\n',\n",
       "  'ATOM   9085  C   LYS B  30      58.051   6.581  30.491  1.00100.61           C  \\n',\n",
       "  'ATOM   9086  O   LYS B  30      57.472   6.196  31.512  1.00100.61           O  \\n',\n",
       "  'ATOM   9092  N   GLY B  31      59.316   6.262  30.223  1.00 97.58           N  \\n',\n",
       "  'ATOM   9093  CA  GLY B  31      60.082   5.401  31.101  1.00 97.58           C  \\n',\n",
       "  'ATOM   9094  C   GLY B  31      60.517   4.103  30.450  1.00 97.58           C  \\n',\n",
       "  'ATOM   9095  O   GLY B  31      60.648   3.076  31.124  1.00 97.58           O  \\n'],\n",
       " 'n_nplusfour_distances': [2.9292985508479656,\n",
       "  2.964464538495948,\n",
       "  2.864694224520306,\n",
       "  3.1482889003393595,\n",
       "  2.98970634009429,\n",
       "  0,\n",
       "  0,\n",
       "  0],\n",
       " 'broken_H_bonds': [],\n",
       " 'psi_angles': [3.216253834787384,\n",
       "  -43.75974997286437,\n",
       "  -39.848475194411684,\n",
       "  -43.29710205877,\n",
       "  -36.83372394438271,\n",
       "  -38.10328898116087,\n",
       "  -44.86110681023759,\n",
       "  -8.439054298161418],\n",
       " 'phi_angles': [-61.19902191105501,\n",
       "  -61.045330843717394,\n",
       "  -59.60929311808192,\n",
       "  -62.934536877631665,\n",
       "  -60.99047176220762,\n",
       "  -71.05441703967196,\n",
       "  -83.72685286634436,\n",
       "  117.0138542544475],\n",
       " 'membraneBoundHelixRegions': [],\n",
       " 'membraneBoundHelixLength': 0}"
      ]
     },
     "execution_count": 78,
     "metadata": {},
     "output_type": "execute_result"
    }
   ],
   "source": [
    "ind_output_file_helix"
   ]
  },
  {
   "cell_type": "code",
   "execution_count": 42,
   "metadata": {},
   "outputs": [
    {
     "name": "stdout",
     "output_type": "stream",
     "text": [
      "Number of broken residues stabilized by interacting with i + 3th residue 6794\n",
      "Number of broken residues stabilized by interacting with i + 5th residue 38\n",
      "Percentage of broken residues stabilized by interacting with i + 3th residue 17.620665508208628\n",
      "NUmber of protein containing broken residues interacting with i + 3th residue 575\n",
      "Number of protein containing broken residues interacting with i + 5th residue 18\n",
      "Percentage of protein containing broken residues interacting with i + 3th residue 86.72699849170438\n",
      "Percentage of protein containing broken residues interacting with i + 5th residue 2.7149321266968327\n"
     ]
    }
   ],
   "source": [
    "print(\"Number of broken residues stabilized by interacting with i + 3th residue\", three_helix_count)\n",
    "print(\"Number of broken residues stabilized by interacting with i + 5th residue\", pi_helix_count)\n",
    "print(\"Percentage of broken residues stabilized by interacting with i + 3th residue\", (three_helix_count/broken_res_count) * 100)\n",
    "print(\"NUmber of protein containing broken residues interacting with i + 3th residue\", protein_with_three_helix)\n",
    "print(\"Number of protein containing broken residues interacting with i + 5th residue\", protein_with_pi_helix)\n",
    "print(\"Percentage of protein containing broken residues interacting with i + 3th residue\", (protein_with_three_helix/total_protein_count) * 100 )\n",
    "print(\"Percentage of protein containing broken residues interacting with i + 5th residue\", (protein_with_pi_helix/total_protein_count) * 100 )\n",
    "\n"
   ]
  },
  {
   "cell_type": "code",
   "execution_count": null,
   "metadata": {},
   "outputs": [],
   "source": [
    "## analysis of ramachandran angles of broken helices stabilized by i , i + 3 interactions"
   ]
  },
  {
   "cell_type": "code",
   "execution_count": 9,
   "metadata": {},
   "outputs": [],
   "source": [
    "# codes to analyse broken parts of alpha helices within the membrance\n",
    "transmembrane_concise_report =  open('../outputs/brokenTransmembraneRegions/concise_report.json')\n",
    "transmembrane_concise_report= json.load(transmembrane_concise_report)\n",
    "del transmembrane_concise_report[-1]"
   ]
  },
  {
   "cell_type": "code",
   "execution_count": 10,
   "metadata": {},
   "outputs": [],
   "source": [
    "broken_transmembrane_res_count_dict={}\n",
    "no_pdb_ids = 0 ; \n",
    "no_broken_transmembrane_regions = 0 ; "
   ]
  },
  {
   "cell_type": "code",
   "execution_count": 11,
   "metadata": {},
   "outputs": [],
   "source": [
    "for ind_pdb in transmembrane_concise_report:\n",
    "    no_pdb_ids = no_pdb_ids +1 ; \n",
    "    broken_region_list = ind_pdb['broken_transmembrane_regions']\n",
    "    for ind_transmembrane_region in broken_region_list:\n",
    "        no_broken_transmembrane_regions = no_broken_transmembrane_regions +1 ; \n",
    "        broken_residues = ind_transmembrane_region['broken_residues']\n",
    "        prev_res_no= - 1; \n",
    "        for ind_res in broken_residues:\n",
    "            res_no = int(ind_res[22:26])\n",
    "            res_name = ind_res[17:20]\n",
    "            if(res_no != prev_res_no):\n",
    "                if(res_name not in broken_transmembrane_res_count_dict.keys()):\n",
    "                    broken_transmembrane_res_count_dict[res_name]= 1;\n",
    "                else:\n",
    "                    broken_transmembrane_res_count_dict[res_name]= broken_transmembrane_res_count_dict[res_name] + 1; \n",
    "                   # print(res_no)\n",
    "                prev_res_no= res_no;"
   ]
  },
  {
   "cell_type": "code",
   "execution_count": 12,
   "metadata": {},
   "outputs": [
    {
     "name": "stdout",
     "output_type": "stream",
     "text": [
      "Number of PDB ids analysed are 676\n",
      "Total mumber of transmembrane which are broken  7675\n"
     ]
    }
   ],
   "source": [
    "print('Number of PDB ids analysed are',no_pdb_ids)\n",
    "print('Total mumber of transmembrane which are broken ',no_broken_transmembrane_regions)"
   ]
  },
  {
   "cell_type": "code",
   "execution_count": 13,
   "metadata": {},
   "outputs": [
    {
     "data": {
      "text/plain": [
       "Text(0.5, 1.0, 'Number of amino acid involved in broken transmembrane regions')"
      ]
     },
     "execution_count": 13,
     "metadata": {},
     "output_type": "execute_result"
    },
    {
     "data": {
      "image/png": "[encoded data removed]",
      "text/plain": [
       "<Figure size 720x360 with 1 Axes>"
      ]
     },
     "metadata": {
      "needs_background": "light"
     },
     "output_type": "display_data"
    }
   ],
   "source": [
    "broken_transmembrane_res_count_dict =dict(sorted(broken_transmembrane_res_count_dict.items(), key=lambda kv: kv[1]))\n",
    "\n",
    "amino_acid_labels = broken_transmembrane_res_count_dict.keys();\n",
    "residues_in_broken_regions= broken_transmembrane_res_count_dict.values();\n",
    "fig = plt.figure(figsize = (10, 5))\n",
    "plt.bar(amino_acid_labels, residues_in_broken_regions, color ='maroon',\n",
    "        width = 0.4)\n",
    "ax = plt.gca()\n",
    "ax.set_title(\"Number of amino acid involved in broken transmembrane regions\")"
   ]
  },
  {
   "cell_type": "code",
   "execution_count": null,
   "metadata": {},
   "outputs": [],
   "source": []
  }
 ],
 "metadata": {
  "interpreter": {
   "hash": "dc937d4361adc6067b3f5ba7bf3f4831150e23a38cf6285dce03ddc43534dc64"
  },
  "kernelspec": {
   "display_name": "Python 3.8.11 ('bioSimulation')",
   "language": "python",
   "name": "python3"
  },
  "language_info": {
   "codemirror_mode": {
    "name": "ipython",
    "version": 3
   },
   "file_extension": ".py",
   "mimetype": "text/x-python",
   "name": "python",
   "nbconvert_exporter": "python",
   "pygments_lexer": "ipython3",
   "version": "3.8.11"
  },
  "orig_nbformat": 4
 },
 "nbformat": 4,
 "nbformat_minor": 2
}
