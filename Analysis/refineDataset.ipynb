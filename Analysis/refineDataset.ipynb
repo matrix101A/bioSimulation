{
 "cells": [
  {
   "cell_type": "code",
   "execution_count": 1,
   "metadata": {},
   "outputs": [],
   "source": [
    "import pandas as pd \n",
    "import numpy as np \n",
    "import json \n",
    "import os \n"
   ]
  },
  {
   "cell_type": "code",
   "execution_count": 12,
   "metadata": {},
   "outputs": [],
   "source": [
    "analysis_dir = os.getcwd()\n",
    "PDB_directory = analysis_dir + \"/../PDB_files/\""
   ]
  },
  {
   "cell_type": "code",
   "execution_count": 21,
   "metadata": {},
   "outputs": [],
   "source": [
    "# removes all files with more thean one membrane present \n",
    "current_pdb_files = os.listdir(PDB_directory)\n",
    "for ind_pdb in current_pdb_files: \n",
    "    f = open(PDB_directory+ind_pdb)\n",
    "    pdb_lines = f.readlines()\n",
    "    z_coord_boundary= 1000;\n",
    "    flag =0 ; \n",
    "    for ind_line in pdb_lines:\n",
    "        type_atom = ind_line[0:6]\n",
    "        if(type_atom == 'HETATM'):\n",
    "            category = ind_line[17:20]\n",
    "            if(category == 'DUM'):\n",
    "                if( z_coord_boundary != 1000 and abs(float(ind_line[48:55])) != z_coord_boundary):\n",
    "                    flag = 1; \n",
    "                else:\n",
    "                    z_coord_boundary = abs(float(ind_line[48:55]))\n",
    "    if(flag):\n",
    "        print(ind_pdb)\n",
    "        os.remove(PDB_directory+ind_pdb)\n"
   ]
  }
 ],
 "metadata": {
  "interpreter": {
   "hash": "dc937d4361adc6067b3f5ba7bf3f4831150e23a38cf6285dce03ddc43534dc64"
  },
  "kernelspec": {
   "display_name": "Python 3.8.11 ('bioSimulation')",
   "language": "python",
   "name": "python3"
  },
  "language_info": {
   "codemirror_mode": {
    "name": "ipython",
    "version": 3
   },
   "file_extension": ".py",
   "mimetype": "text/x-python",
   "name": "python",
   "nbconvert_exporter": "python",
   "pygments_lexer": "ipython3",
   "version": "3.8.11"
  },
  "orig_nbformat": 4
 },
 "nbformat": 4,
 "nbformat_minor": 2
}
